{
  "nbformat": 4,
  "nbformat_minor": 0,
  "metadata": {
    "colab": {
      "provenance": [],
      "authorship_tag": "ABX9TyNVC9TJN5NcIf2pQB9rEgw8",
      "include_colab_link": true
    },
    "kernelspec": {
      "name": "python3",
      "display_name": "Python 3"
    },
    "language_info": {
      "name": "python"
    }
  },
  "cells": [
    {
      "cell_type": "markdown",
      "metadata": {
        "id": "view-in-github",
        "colab_type": "text"
      },
      "source": [
        "<a href=\"https://colab.research.google.com/github/jcar2905/Hello_word/blob/main/Ejercicios_diccionarios.ipynb\" target=\"_parent\"><img src=\"https://colab.research.google.com/assets/colab-badge.svg\" alt=\"Open In Colab\"/></a>"
      ]
    },
    {
      "cell_type": "markdown",
      "source": [
        "Ejercicio 1\n",
        "Escribir un programa que guarde en una variable el diccionario `{'Euro':'€', 'Dollar':'$', 'Yen':'¥'}`, pregunte al usuario por una divisa y muestre su símbolo o un mensaje de aviso si la divisa no está en el diccionario."
      ],
      "metadata": {
        "id": "bkbgkA-IvfXy"
      }
    },
    {
      "cell_type": "code",
      "source": [
        "monedas = {'Euro':'€', 'Dollar':'$', 'Yen':'¥'}\n",
        "moneda = input(\"Introduce una divisa: \")\n",
        "print(monedas.get(moneda.title(), \"La divisa no está.\"))"
      ],
      "metadata": {
        "colab": {
          "base_uri": "https://localhost:8080/"
        },
        "id": "cfigzQRnvjzp",
        "outputId": "ed2f496e-4e6c-4026-a63b-00505b0ba438"
      },
      "execution_count": 7,
      "outputs": [
        {
          "output_type": "stream",
          "name": "stdout",
          "text": [
            "Introduce una divisa: Libra\n",
            "La divisa no está.\n"
          ]
        }
      ]
    },
    {
      "cell_type": "markdown",
      "source": [
        "Ejercicio 2\n",
        "Escribir un programa que pregunte al usuario su nombre, edad, dirección y teléfono y lo guarde en un diccionario. Despúes debe mostrar por pantalla el mensaje `<nombre>` tiene `<edad`> años, vive en `<dirección>` y su número de teléfono es `<teléfono>`."
      ],
      "metadata": {
        "id": "sD7Azz8oufrr"
      }
    },
    {
      "cell_type": "code",
      "execution_count": 6,
      "metadata": {
        "colab": {
          "base_uri": "https://localhost:8080/"
        },
        "id": "svnqaoL0gFLZ",
        "outputId": "9b3f002b-3526-444f-b61e-ddb75fece9a1"
      },
      "outputs": [
        {
          "output_type": "stream",
          "name": "stdout",
          "text": [
            "Cual es tu nuombre: Carlos\n",
            "Cuantos años tienes: 23\n",
            "Cual es tu dirección: Santiago\n",
            "Cual es tu telefono: 123456789\n",
            "Carlos tiene 23 años, vive en Santiago y su número de teléfono es 123456789\n"
          ]
        }
      ],
      "source": [
        "nombre = input(\"Cual es tu nuombre: \")\n",
        "edad = input(\"Cuantos años tienes: \")\n",
        "direccion = input(\"Cual es tu dirección: \")\n",
        "telefono = input(\"Cual es tu telefono: \")\n",
        "\n",
        "persona = {\"nombre\": nombre, \"edad\": edad, \"direccion\": direccion, \"telefono\": telefono}\n",
        "\n",
        "print(persona.get(\"nombre\"),\"tiene\", persona.get(\"edad\"), \"años, vive en\",\n",
        "      persona.get(\"direccion\"), \"y su número de teléfono es\", persona.get(\"telefono\"))"
      ]
    },
    {
      "cell_type": "markdown",
      "source": [
        "Ejercicio 3\n",
        "Escribir un programa que guarde en un diccionario los precios de las frutas de la tabla, pregunte al usuario por una fruta, un número de kilos y muestre por pantalla el precio de ese número de kilos de fruta. Si la fruta no está en el diccionario debe mostrar un mensaje informando de ello.\n",
        "\n",
        "| Fruta    | Precio  |\n",
        "|:--------:|--------:|\n",
        "| Plátano  | 1.35    |\n",
        "| Manzana  | 0.80    |\n",
        "| Pera     | 0.85    |\n",
        "| Naranja  | 0.70    |\n"
      ],
      "metadata": {
        "id": "Z33Hbz7PwDCh"
      }
    },
    {
      "cell_type": "code",
      "source": [
        "frutas = {'Platano': 1.35, 'Manzana': 0.80, 'Pera': 0.85, 'Naranja': 0.70}\n",
        "frutas2 = {'platano': 1.35, 'manzana': 0.80, 'pera': 0.85, 'naranja': 0.70}\n",
        "pedido = input('Qué fruta desea? ')\n",
        "if pedido in frutas:\n",
        "    kilos = eval(input('Cuántos kilos? '))\n",
        "    print('el costo de', kilos, 'de su fruta es $', frutas[pedido]*kilos)\n",
        "elif pedido in frutas2:\n",
        "    kilos = eval(input('Cuántos kilos? '))\n",
        "    print('el costo de', kilos, 'de su fruta es $', frutas2[pedido]*kilos)\n",
        "else:\n",
        "    print('lo siento no tenemos esa fruta')"
      ],
      "metadata": {
        "colab": {
          "base_uri": "https://localhost:8080/"
        },
        "id": "xNWildWPxJwi",
        "outputId": "b9ab30bb-ec59-472c-e797-c81705f9c243"
      },
      "execution_count": 19,
      "outputs": [
        {
          "output_type": "stream",
          "name": "stdout",
          "text": [
            "Qué fruta desea? Manzana\n",
            "Cuántos kilos? 4\n",
            "el costo de 4 de su fruta es $ 3.2\n"
          ]
        }
      ]
    },
    {
      "cell_type": "markdown",
      "source": [
        "Ejercicio 4\n",
        "Escribir un programa que pregunte una fecha en formato `dd/mm/aaaa` y muestre por pantalla la misma fecha en formato `dd de <mes> de aaaa` donde `<mes>` es el nombre del mes.\n",
        "\n",
        "\n"
      ],
      "metadata": {
        "id": "rwg7wSo400li"
      }
    },
    {
      "cell_type": "code",
      "source": [
        "meses = {1:'enero', 2:'febrero', 3:'marzo', 4:'abril', 5:'mayo', 6:'junio',\n",
        "         7:'julio', 8:'agosto', 9:'septiembre', 10:'octubre', 11:'noviembre', 12:'diciembre'}\n",
        "fecha = input('Introduce una fecha en formato dd/mm/aaaa: ')\n",
        "fecha = fecha.split('/')\n",
        "print(fecha[0], 'de', meses[int(fecha[1])], 'de', fecha[2])"
      ],
      "metadata": {
        "colab": {
          "base_uri": "https://localhost:8080/"
        },
        "id": "usqBPVG109oz",
        "outputId": "14658229-bcf9-4c60-968e-c2607a3c6257"
      },
      "execution_count": 27,
      "outputs": [
        {
          "output_type": "stream",
          "name": "stdout",
          "text": [
            "Introduce una fecha en formato dd/mm/aaaa: 15/10/1000\n",
            "15 de octubre de 1000\n"
          ]
        },
        {
          "output_type": "execute_result",
          "data": {
            "text/plain": [
              "['15', '10', '1000']"
            ]
          },
          "metadata": {},
          "execution_count": 27
        }
      ]
    }
  ]
}