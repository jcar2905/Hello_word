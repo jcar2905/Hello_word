{
  "nbformat": 4,
  "nbformat_minor": 0,
  "metadata": {
    "colab": {
      "provenance": [],
      "authorship_tag": "ABX9TyONPGATmnuE9fXZLLSzSELF",
      "include_colab_link": true
    },
    "kernelspec": {
      "name": "python3",
      "display_name": "Python 3"
    },
    "language_info": {
      "name": "python"
    }
  },
  "cells": [
    {
      "cell_type": "markdown",
      "metadata": {
        "id": "view-in-github",
        "colab_type": "text"
      },
      "source": [
        "<a href=\"https://colab.research.google.com/github/jcar2905/Hello_word/blob/main/25_10_23.ipynb\" target=\"_parent\"><img src=\"https://colab.research.google.com/assets/colab-badge.svg\" alt=\"Open In Colab\"/></a>"
      ]
    },
    {
      "cell_type": "markdown",
      "source": [
        "###Ecuación de recta tangente\n",
        "\n",
        "Dada una expresión algebraica y un punto, define una función que regrese la ecuación de la recta tangente en el punto. (La ecuación se puede representar con Eq).\n"
      ],
      "metadata": {
        "id": "Qv6UvpnudJDN"
      }
    },
    {
      "cell_type": "code",
      "execution_count": 19,
      "metadata": {
        "id": "Ae0OtUWedCSD"
      },
      "outputs": [],
      "source": [
        "from sympy import diff, exp, symbols, init_printing, Eq\n",
        "\n",
        "x, y = symbols('x y')\n",
        "\n",
        "def rectan(expres,punto):\n",
        "    return Eq(y, diff(expres).subs(x, punto)*(x - punto) + expres.subs(x, punto))"
      ]
    },
    {
      "cell_type": "code",
      "source": [
        "rectan((x+2)**2,1)"
      ],
      "metadata": {
        "colab": {
          "base_uri": "https://localhost:8080/",
          "height": 38
        },
        "id": "1pKO0LD8eUQS",
        "outputId": "6afc6b20-3aad-411a-d4fa-81cf5629750b"
      },
      "execution_count": 26,
      "outputs": [
        {
          "output_type": "execute_result",
          "data": {
            "text/plain": [
              "Eq(y, 6*x + 3)"
            ],
            "text/latex": "$\\displaystyle y = 6 x + 3$"
          },
          "metadata": {},
          "execution_count": 26
        }
      ]
    },
    {
      "cell_type": "markdown",
      "source": [
        "###Matrices enteras con valores propios enteros\n",
        "\n",
        "Define una función que dada una lista, determine si todos sus valores son números enteros. (Sugerencia: Los números flotantes tienen un método `is_integer` que regresa `True` o `False`. Un número (incluyendo enteros de sympy) se puede convertir a flotante con la función `float`. La función `all`, que está incluida con Python, es tal que dada una lista, regresa `True` si todos sus elementos son `True`.) Usa la función anterior para determinar todas las matrices de la forma\n",
        "$ \\begin{pmatrix}\n",
        "1 & n\\\\\n",
        "1 & 1\\\\\n",
        "\\end{pmatrix}$ con $n \\in \\{1,2,...,99\\}$ tales que todos sus valores propios son enteros."
      ],
      "metadata": {
        "id": "-JUJsmDhiBQT"
      }
    },
    {
      "cell_type": "code",
      "source": [
        "from sympy import Matrix\n",
        "\n",
        "def enteros(lista):\n",
        "    m = []\n",
        "    for elemento in lista:\n",
        "        m.append(float(elemento).is_integer())\n",
        "    if all(m):\n",
        "        return True\n",
        "    else:\n",
        "        return False\n",
        "\n",
        "def matrices(n):\n",
        "    m =[]\n",
        "    for i in range(1, n+1):\n",
        "        A = Matrix([[1, i], [1, 1]])\n",
        "        vals = A.eigenvals().keys()\n",
        "        list(vals)\n",
        "        if enteros(vals):\n",
        "            m.append(A)\n",
        "    return m"
      ],
      "metadata": {
        "id": "vk_xN3u7iZ16"
      },
      "execution_count": 58,
      "outputs": []
    },
    {
      "cell_type": "code",
      "source": [
        "matrices(99)"
      ],
      "metadata": {
        "colab": {
          "base_uri": "https://localhost:8080/"
        },
        "id": "-6FYOamItKDB",
        "outputId": "9b7e6115-86c4-469f-ed8f-f1355eb1368a"
      },
      "execution_count": 56,
      "outputs": [
        {
          "output_type": "execute_result",
          "data": {
            "text/plain": [
              "[1, 4, 9, 16, 25, 36, 49, 64, 81]"
            ]
          },
          "metadata": {},
          "execution_count": 56
        }
      ]
    }
  ]
}