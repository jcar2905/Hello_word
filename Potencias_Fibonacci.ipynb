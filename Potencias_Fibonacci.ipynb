{
  "nbformat": 4,
  "nbformat_minor": 0,
  "metadata": {
    "colab": {
      "provenance": [],
      "authorship_tag": "ABX9TyML+jd755FPZZzzikEqnz8A",
      "include_colab_link": true
    },
    "kernelspec": {
      "name": "python3",
      "display_name": "Python 3"
    },
    "language_info": {
      "name": "python"
    }
  },
  "cells": [
    {
      "cell_type": "markdown",
      "metadata": {
        "id": "view-in-github",
        "colab_type": "text"
      },
      "source": [
        "<a href=\"https://colab.research.google.com/github/jcar2905/Hello_word/blob/main/Potencias_Fibonacci.ipynb\" target=\"_parent\"><img src=\"https://colab.research.google.com/assets/colab-badge.svg\" alt=\"Open In Colab\"/></a>"
      ]
    },
    {
      "cell_type": "markdown",
      "source": [
        "Las unicas potencias perfectas en la secuencia de Fibonacci segun el articulo Classical and modular approaches to exponential Diophantine equations I. Fibonacci and Lucas perfect powers (https://annals.math.princeton.edu/wp-content/uploads/annals-v163-n3-p05.pdf) son 0,1,8,144. Para comprobarlo de forma númerica podemos utilizar el siguiente codigo con la función: potencias_fibonacci(n,pot)"
      ],
      "metadata": {
        "id": "rXtstlNfI6O7"
      }
    },
    {
      "cell_type": "code",
      "source": [
        "from sympy import sqrt\n",
        "\n",
        "#Función que regresa un elemento booleano al verificar si un número es potencia perfecta de otro número\n",
        "def es_potencia(n,p):\n",
        "    return int(n**(1/p))**p == n\n",
        "\n",
        "#Función que genera los números de Fibonacci hasta cierto número n y verifica si son potencias perfectas\n",
        "def potencias_fibonacci(n,p):\n",
        "    fibs = []\n",
        "    a, b = 0, 1\n",
        "    while a < n:\n",
        "        if es_potencia(a,p):\n",
        "            fibs.append(a)\n",
        "        a, b = b, a+b\n",
        "    return fibs\n",
        "\n",
        "potencias_fibonacci(10**20,2), potencias_fibonacci(10**20,3), potencias_fibonacci(10**20,4)"
      ],
      "metadata": {
        "colab": {
          "base_uri": "https://localhost:8080/"
        },
        "id": "fNYHkBexJtMm",
        "outputId": "b4fa9ae9-dd8a-45d1-f5d9-4e8089b35b4e"
      },
      "execution_count": 4,
      "outputs": [
        {
          "output_type": "execute_result",
          "data": {
            "text/plain": [
              "([0, 1, 1, 144], [0, 1, 1, 8], [0, 1, 1])"
            ]
          },
          "metadata": {},
          "execution_count": 4
        }
      ]
    }
  ]
}