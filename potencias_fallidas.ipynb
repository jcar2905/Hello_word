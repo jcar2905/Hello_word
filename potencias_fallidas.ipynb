{
  "nbformat": 4,
  "nbformat_minor": 0,
  "metadata": {
    "colab": {
      "provenance": [],
      "authorship_tag": "ABX9TyM2OxV+ktWsERP5NZdYM+C9",
      "include_colab_link": true
    },
    "kernelspec": {
      "name": "python3",
      "display_name": "Python 3"
    },
    "language_info": {
      "name": "python"
    }
  },
  "cells": [
    {
      "cell_type": "markdown",
      "metadata": {
        "id": "view-in-github",
        "colab_type": "text"
      },
      "source": [
        "<a href=\"https://colab.research.google.com/github/jcar2905/Hello_word/blob/main/potencias_fallidas.ipynb\" target=\"_parent\"><img src=\"https://colab.research.google.com/assets/colab-badge.svg\" alt=\"Open In Colab\"/></a>"
      ]
    },
    {
      "cell_type": "code",
      "execution_count": 5,
      "metadata": {
        "colab": {
          "base_uri": "https://localhost:8080/"
        },
        "id": "k2-_0o8jBtNb",
        "outputId": "ff96c291-8b2b-4d73-bf57-71e3957adf86"
      },
      "outputs": [
        {
          "output_type": "execute_result",
          "data": {
            "text/plain": [
              "[0, 1, 1, 2, 8]"
            ]
          },
          "metadata": {},
          "execution_count": 5
        }
      ],
      "source": [
        "from sympy.core.power import integer_log\n",
        "\n",
        "def potencia_fib(n,pot=2):\n",
        "  return integer_log(n,pot)\n",
        "\n",
        "def potencias_fibonacci(n,pot):\n",
        "  fibs = [0]\n",
        "  a, b = 0, 1\n",
        "  while a < n:\n",
        "    if a !=0 and potencia_fib(a,pot)[1]:\n",
        "      fibs.append(a)\n",
        "    a, b = b, a+b\n",
        "  return fibs\n",
        "\n",
        "potencias_fibonacci()"
      ]
    }
  ]
}