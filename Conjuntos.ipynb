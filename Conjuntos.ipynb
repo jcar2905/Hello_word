{
  "nbformat": 4,
  "nbformat_minor": 0,
  "metadata": {
    "colab": {
      "provenance": [],
      "authorship_tag": "ABX9TyMjIXQR9Pi9rA0f2iNH4rJR",
      "include_colab_link": true
    },
    "kernelspec": {
      "name": "python3",
      "display_name": "Python 3"
    },
    "language_info": {
      "name": "python"
    }
  },
  "cells": [
    {
      "cell_type": "markdown",
      "metadata": {
        "id": "view-in-github",
        "colab_type": "text"
      },
      "source": [
        "<a href=\"https://colab.research.google.com/github/jcar2905/Hello_word/blob/main/Conjuntos.ipynb\" target=\"_parent\"><img src=\"https://colab.research.google.com/assets/colab-badge.svg\" alt=\"Open In Colab\"/></a>"
      ]
    },
    {
      "cell_type": "markdown",
      "source": [
        "En una libreta de jupyter nueva, define una función tal que, dados argumentos: cantidad y rango (dos enteros positivos), regrese un conjunto con cantidad números enteros aleatorios, que pueden estar entre -rango y rango."
      ],
      "metadata": {
        "id": "RA0kZErqLUM5"
      }
    },
    {
      "cell_type": "code",
      "execution_count": 63,
      "metadata": {
        "colab": {
          "base_uri": "https://localhost:8080/"
        },
        "id": "7S9g6rM2DiCE",
        "outputId": "00bcb986-1c34-4033-8b31-c3da6eb2f52c"
      },
      "outputs": [
        {
          "output_type": "stream",
          "name": "stdout",
          "text": [
            "Help on function conjunto in module __main__:\n",
            "\n",
            "conjunto(cantidad=1, rango=1)\n",
            "    La función solicita dos argumentos enteros el tamaño = cantidad\n",
            "    y el rango, con esto la funcion genra un conjunto de tamaño el primer \n",
            "    argumento y con numeros enteros entre -rango y rango\n",
            "\n"
          ]
        }
      ],
      "source": [
        "import random\n",
        "def conjunto(cantidad=1,rango=1):\n",
        "    \"\"\"La función solicita dos argumentos enteros el tamaño = cantidad\n",
        "     y el rango, con esto la funcion genra un conjunto de tamaño el primer\n",
        "     argumento y con numeros enteros entre -rango y rango\"\"\"\n",
        "    return{random.randint(-rango,rango) for i in range(cantidad)}\n",
        "\n",
        "x = conjunto(5,10)\n",
        "x\n",
        "help(conjunto)"
      ]
    },
    {
      "cell_type": "markdown",
      "source": [
        "Define ahora una función tal que, dado un conjunto de números enteros, regrese un subconjunto del conjunto tal que la suma de los elementos del subconjunto sea 0. Si no existe tal conjunto, la función debe regresar False."
      ],
      "metadata": {
        "id": "W4Ti03KBLU0M"
      }
    },
    {
      "cell_type": "code",
      "source": [
        "from itertools import combinations\n",
        "\n",
        "def suma(x):\n",
        "    \"\"\"Esta función solicita como argumento un conjunto, en base a esto\n",
        "     genera subconjuntos del mismo y los recorre hasta encontrar uno el cual\n",
        "     sus elementos sumen cero, en caso de que ningún subconjunto sume sero la\n",
        "     función regresa False\"\"\"\n",
        "    todo = []\n",
        "    for i in range(len(x)+1):\n",
        "        for subconjunto in combinations(x, i):\n",
        "            todo.append(set(subconjunto))\n",
        "    for i in range(len(todo)):\n",
        "        if sum(todo[i]) == 0 and todo[i] != set():\n",
        "            return todo[i]\n",
        "    return False\n",
        "\n",
        "suma(x)\n",
        "help(suma)"
      ],
      "metadata": {
        "colab": {
          "base_uri": "https://localhost:8080/"
        },
        "id": "uGMiZZ6YFMKv",
        "outputId": "d1527f8f-20ba-4ba8-97db-a5957b4d374c"
      },
      "execution_count": 64,
      "outputs": [
        {
          "output_type": "stream",
          "name": "stdout",
          "text": [
            "Help on function suma in module __main__:\n",
            "\n",
            "suma(x)\n",
            "    Esta función solicita como argumento un conjunto, en base a esto\n",
            "    genera subconjuntos del mismo y los recorre hasta encontrar uno el cual \n",
            "    sume cero, en caso de que ningún subconjunto sume sero la función regresa \n",
            "    False\n",
            "\n"
          ]
        }
      ]
    }
  ]
}